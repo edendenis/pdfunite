{
 "cells": [
  {
   "cell_type": "markdown",
   "metadata": {},
   "source": [
    "# Como configurar/instalar/usar o `img2pdf` no `Linux Ubuntu`\n",
    "\n",
    "## Resumo\n",
    "\n",
    "Neste documento estão contidos os principais comandos e configurações para configurar/instalar o `img2pdf` no `Linux Ubuntu`.\n",
    "\n",
    "## _Abstract_\n",
    "\n",
    "_In this document are contained the main commands and settings to set up/install the `img2pdf` on `Linux Ubuntu`._\n"
   ]
  },
  {
   "cell_type": "markdown",
   "metadata": {},
   "source": [
    "## Descrição [2]\n",
    "\n",
    "### `img2pdf`\n",
    "\n",
    "O `img2pdf` é uma ferramenta de linha de comando para converter imagens em arquivos PDF no sistema Linux. Ele permite a criação de documentos PDF a partir de imagens em diversos formatos, como JPEG, PNG e TIFF. O `img2pdf` é eficiente e flexível, oferecendo opções para ajustar a qualidade, o tamanho e a disposição das imagens no PDF resultante. É uma ferramenta leve, ideal para usuários que precisam converter rapidamente imagens para PDF sem perder qualidade, e é particularmente útil para a criação de documentos digitais ou arquivos de apresentação a partir de imagens.\n"
   ]
  },
  {
   "cell_type": "markdown",
   "metadata": {},
   "source": [
    "## 1. Como configurar/instalar/usar o `img2pdf` no `Linux Ubuntu` [1]\n",
    "\n",
    "Para configurar/instalar/usar o `img2pdf` no `Linux Ubuntu`, você pode seguir estes passos:\n",
    "\n",
    "1. Abra o `Terminal Emulator`. Você pode fazer isso pressionando: `Ctrl + Alt + T`"
   ]
  },
  {
   "cell_type": "markdown",
   "metadata": {},
   "source": [
    "2. Certifique-se de que seu sistema esteja limpo e atualizado.\n",
    "\n",
    "    2.1 Limpar o `cache` do gerenciador de pacotes `apt`. Especificamente, ele remove todos os arquivos de pacotes (`.deb`) baixados pelo `apt` e armazenados em `/var/cache/apt/archives/`. Digite o seguinte comando: `sudo apt clean` \n",
    "    \n",
    "    2.2 Remover pacotes `.deb` antigos ou duplicados do cache local. É útil para liberar espaço, pois remove apenas os pacotes que não podem mais ser baixados (ou seja, versões antigas de pacotes que foram atualizados). Digite o seguinte comando: `sudo apt autoclean`\n",
    "\n",
    "    2.3 Remover pacotes que foram automaticamente instalados para satisfazer as dependências de outros pacotes e que não são mais necessários. Digite o seguinte comando: `sudo apt autoremove -y`\n",
    "\n",
    "    2.4 Buscar as atualizações disponíveis para os pacotes que estão instalados em seu sistema. Digite o seguinte comando e pressione `Enter`: `sudo apt update`\n",
    "\n",
    "    2.5 **Corrigir pacotes quebrados**: Isso atualizará a lista de pacotes disponíveis e tentará corrigir pacotes quebrados ou com dependências ausentes: `sudo apt --fix-broken install`\n",
    "\n",
    "    2.6 Limpar o `cache` do gerenciador de pacotes `apt`. Especificamente, ele remove todos os arquivos de pacotes (`.deb`) baixados pelo `apt` e armazenados em `/var/cache/apt/archives/`. Digite o seguinte comando: `sudo apt clean` \n",
    "    \n",
    "    2.7 Para ver a lista de pacotes a serem atualizados, digite o seguinte comando e pressione `Enter`:  `sudo apt list --upgradable`\n",
    "\n",
    "    2.8 Realmente atualizar os pacotes instalados para as suas versões mais recentes, com base na última vez que você executou `sudo apt update`. Digite o seguinte comando e pressione `Enter`: `sudo apt full-upgrade -y`\n",
    "    "
   ]
  },
  {
   "cell_type": "markdown",
   "metadata": {},
   "source": [
    "### 1.1 Configurar/Instalar/usar o `img2pdf`\n",
    "\n",
    "Para juntar dois arquivos PDF em um único no `Linux Ubuntu`, você pode usar várias ferramentas disponíveis na linha de comando. É possível usar o `img2pdf`, parte do pacote `poppler-utils`.\n",
    "\n",
    "1. **Instale o `img2pdf`**: Agora, você pode instalar o pacote com o comando: `sudo apt install img2pdf`\n",
    "\n",
    "2. **Verifique a instalação**: Após a instalação, você pode verificar se o `img2pdf` foi instalado corretamente rodando o comando: `img2pdf --version`\n",
    "\n",
    "Isso deve mostrar a versão do `img2pdf`, confirmando que ele foi instalado corretamente.\n"
   ]
  },
  {
   "cell_type": "markdown",
   "metadata": {},
   "source": [
    "## 1.2 Juntar os arquivos `.pdf` com o `img2pdf`\n",
    "\n",
    "1. **Para juntar os arquivos `.pdf`, use o comando:** `img2pdf arquivo1.jpg arquivo2.png -o output.pdf`\n",
    "\n",
    "    Novamente, substitua `arquivo1.pdf` e `arquivo2.pdf` pelos nomes dos seus arquivos `.pdf` que deseja juntar, e `arquivo_unido.pdf` pelo nome que deseja dar ao arquivo PDF resultante.\n",
    "\n",
    "## 1.2.1 Juntar muitos arquivos `.pdf` com o `img2pdf`\n",
    "\n",
    "1. **Para juntar muitos arquivos `.pdf`, use o comando:** `img2pdf arquivo1.jpg arquivo2.png arquivo3.png -o output.pdf`\n",
    "\n",
    "    Novamente, substitua `arquivo1.pdf`, `arquivo2.pdf` e `arquivo3.pdf` pelos nomes dos seus arquivos `.pdf` que deseja juntar, e `arquivo_unido.pdf` pelo nome que deseja dar ao arquivo `.pdf` resultante.\n",
    "\n",
    "    1.1 Se você tiver uma lista grande de arquivos `.pdf` e eles estiverem nomeados de forma sequencial ou possuírem um padrão nos nomes, você pode até utilizar wildcards (coringas) ou outras técnicas de shell para especificar os arquivos de entrada. Por exemplo: `img2pdf arquivo*.pdf arquivo_unido.pdf`\n",
    "\n",
    "    Esses comandos unirão todos os arquivos `.pdf` no diretório atual que correspondem ao padrão especificado (neste caso, todos os arquivos que começam com `\"arquivo\"` e terminam com `\".pdf\"`) em um único arquivo `.pdf`.\n"
   ]
  },
  {
   "cell_type": "markdown",
   "metadata": {
    "vscode": {
     "languageId": "plaintext"
    }
   },
   "source": [
    "## 2. Código completo para configurar/instalar/usar\n",
    "\n",
    "Para configurar/instalar/usar o `img2pdf` no `Linux Ubuntu`sem precisar digitar linha por linha, você pode seguir estas etapas:\n",
    "\n",
    "1. Abra o `Terminal Emulator`. Você pode fazer isso pressionando: `Ctrl + Alt + T`\n",
    "\n",
    "2. Digite o seguinte comando e pressione `Enter`:\n",
    "\n",
    "    ```\n",
    "    sudo apt clean\n",
    "    sudo apt autoclean\n",
    "    sudo apt autoremove -y\n",
    "    sudo apt update\n",
    "    sudo apt --fix-broken install\n",
    "    sudo apt clean\n",
    "    sudo apt list --upgradable\n",
    "    sudo apt full-upgrade -y\n",
    "    sudo apt-get img2pdf -y\n",
    "    img2pdf --version\n",
    "    ```\n"
   ]
  },
  {
   "cell_type": "markdown",
   "metadata": {
    "vscode": {
     "languageId": "plaintext"
    }
   },
   "source": [
    "## Referências\n",
    "\n",
    "[3] OPENAI. ***Unir arquivos pdf: pdftk vs. img2pdf:***. Disponível em: <https://chat.openai.com/c/592706f3-7b05-4cff-859e-c5b1727e4735> (texto adaptado). Acessado em: 19/02/2024 13:47.\n",
    "\n",
    "[2] OPENAI. ***Vs code: editor popular***. Disponível em: <https://chat.openai.com/c/b640a25d-f8e3-4922-8a3b-ed74a2657e42> (texto adaptado). Acessado em: 19/02/2024 13:48.\n",
    "\n"
   ]
  }
 ],
 "metadata": {
  "kernelspec": {
   "display_name": "Python 3",
   "language": "python",
   "name": "python3"
  },
  "language_info": {
   "codemirror_mode": {
    "name": "ipython",
    "version": 3
   },
   "file_extension": ".py",
   "mimetype": "text/x-python",
   "name": "python",
   "nbconvert_exporter": "python",
   "pygments_lexer": "ipython3",
   "version": "3.11.5"
  },
  "orig_nbformat": 4
 },
 "nbformat": 4,
 "nbformat_minor": 2
}
