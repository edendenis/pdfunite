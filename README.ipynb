{
 "cells": [
  {
   "cell_type": "markdown",
   "metadata": {},
   "source": [
    "# Como configurar/instalar/usar o `pdfunite` no `Linux Ubuntu`\n",
    "\n",
    "## Resumo\n",
    "\n",
    "Neste documento estão contidos os principais comandos e configurações para configurar/instalar o `pdfunite` no `Linux Ubuntu`.\n",
    "\n",
    "## _Abstract_\n",
    "\n",
    "_In this document are contained the main commands and settings to set up/install the `pdfunite` on `Linux Ubuntu`._\n"
   ]
  },
  {
   "cell_type": "markdown",
   "metadata": {},
   "source": [
    "## Descrição [2]\n",
    "\n",
    "### `pdfunite`\n",
    "\n",
    "O `pdfunite` é uma ferramenta de linha de comando utilizada para mesclar múltiplos arquivos PDF em um único documento. Com essa ferramenta, os usuários podem combinar várias páginas ou documentos PDF de forma rápida e eficiente, facilitando a organização e compartilhamento de informações em um único arquivo PDF consolidado.\n"
   ]
  },
  {
   "cell_type": "markdown",
   "metadata": {},
   "source": [
    "## 1. Como configurar/instalar/usar o `pdfunite` no `Linux Ubuntu` [1]\n",
    "\n",
    "Para configurar/instalar/usar o `pdfunite` no `Linux Ubuntu`, você pode seguir estes passos:\n",
    "\n",
    "1. Abra o `Terminal Emulator`. Você pode fazer isso pressionando: `Ctrl + Alt + T`"
   ]
  },
  {
   "cell_type": "markdown",
   "metadata": {},
   "source": [
    "2. Certifique-se de que seu sistema esteja limpo e atualizado.\n",
    "\n",
    "    2.1 Limpar o `cache` do gerenciador de pacotes `apt`. Especificamente, ele remove todos os arquivos de pacotes (`.deb`) baixados pelo `apt` e armazenados em `/var/cache/apt/archives/`. Digite o seguinte comando: `sudo apt clean` \n",
    "    \n",
    "    2.2 Remover pacotes `.deb` antigos ou duplicados do cache local. É útil para liberar espaço, pois remove apenas os pacotes que não podem mais ser baixados (ou seja, versões antigas de pacotes que foram atualizados). Digite o seguinte comando: `sudo apt autoclean`\n",
    "\n",
    "    2.3 Remover pacotes que foram automaticamente instalados para satisfazer as dependências de outros pacotes e que não são mais necessários. Digite o seguinte comando: `sudo apt autoremove -y`\n",
    "\n",
    "    2.4 Buscar as atualizações disponíveis para os pacotes que estão instalados em seu sistema. Digite o seguinte comando e pressione `Enter`: `sudo apt update`\n",
    "\n",
    "    2.5 **Corrigir pacotes quebrados**: Isso atualizará a lista de pacotes disponíveis e tentará corrigir pacotes quebrados ou com dependências ausentes: `sudo apt --fix-broken install`\n",
    "\n",
    "    2.6 Limpar o `cache` do gerenciador de pacotes `apt`. Especificamente, ele remove todos os arquivos de pacotes (`.deb`) baixados pelo `apt` e armazenados em `/var/cache/apt/archives/`. Digite o seguinte comando: `sudo apt clean` \n",
    "    \n",
    "    2.7 Para ver a lista de pacotes a serem atualizados, digite o seguinte comando e pressione `Enter`:  `sudo apt list --upgradable`\n",
    "\n",
    "    2.8 Realmente atualizar os pacotes instalados para as suas versões mais recentes, com base na última vez que você executou `sudo apt update`. Digite o seguinte comando e pressione `Enter`: `sudo apt full-upgrade -y`\n",
    "    "
   ]
  },
  {
   "cell_type": "markdown",
   "metadata": {},
   "source": [
    "### 1.1 Configurar/Instalar/usar o `pdfunite`\n",
    "\n",
    "Para juntar dois arquivos PDF em um único no Linux, você pode usar várias ferramentas disponíveis na linha de comando. É possível usar o `pdfunite`, parte do pacote `poppler-utils`.\n",
    "\n",
    "1. **Para instalar o `poppler-utils` (que inclui o `pdfunite`), use o seguinte comando:** Para sistemas baseados em Debian (como Ubuntu): `sudo apt install poppler-utils`\n",
    "Para sistemas baseados em Red Hat (como Fedora):\n"
   ]
  },
  {
   "cell_type": "markdown",
   "metadata": {},
   "source": [
    "## 1.2 Juntar os arquivos `.pdf` com o `pdfunite`\n",
    "\n",
    "1. **Para juntar os arquivos `.pdf`, use o comando:** `pdfunite arquivo1.pdf arquivo2.pdf arquivo_unido.pdf`\n",
    "\n",
    "    Novamente, substitua `arquivo1.pdf` e `arquivo2.pdf` pelos nomes dos seus arquivos `.pdf` que deseja juntar, e `arquivo_unido.pdf` pelo nome que deseja dar ao arquivo PDF resultante.\n",
    "\n",
    "## 1.2.1 Juntar muitos arquivos `.pdf` com o `pdfunite`\n",
    "\n",
    "1. **Para juntar muitos arquivos `.pdf`, use o comando:** `pdfunite arquivo1.pdf arquivo2.pdf arquivo3.pdf arquivo_unido.pdf`\n",
    "\n",
    "    Novamente, substitua `arquivo1.pdf`, `arquivo2.pdf` e `arquivo3.pdf` pelos nomes dos seus arquivos `.pdf` que deseja juntar, e `arquivo_unido.pdf` pelo nome que deseja dar ao arquivo `.pdf` resultante.\n",
    "\n",
    "    1.1 Se você tiver uma lista grande de arquivos `.pdf` e eles estiverem nomeados de forma sequencial ou possuírem um padrão nos nomes, você pode até utilizar wildcards (coringas) ou outras técnicas de shell para especificar os arquivos de entrada. Por exemplo: `pdfunite arquivo*.pdf arquivo_unido.pdf`\n",
    "\n",
    "    Esses comandos unirão todos os arquivos `.pdf` no diretório atual que correspondem ao padrão especificado (neste caso, todos os arquivos que começam com `\"arquivo\"` e terminam com `\".pdf\"`) em um único arquivo `.pdf`.\n"
   ]
  },
  {
   "cell_type": "markdown",
   "metadata": {
    "vscode": {
     "languageId": "plaintext"
    }
   },
   "source": [
    "## 2. Código completo para configurar/instalar/usar\n",
    "\n",
    "Para configurar/instalar/usar o `pdfunite` no `Linux Ubuntu`sem precisar digitar linha por linha, você pode seguir estas etapas:\n",
    "\n",
    "1. Abra o `Terminal Emulator`. Você pode fazer isso pressionando: `Ctrl + Alt + T`\n",
    "\n",
    "2. Digite o seguinte comando e pressione `Enter`:\n",
    "\n",
    "    ```\n",
    "    sudo apt clean                                                            \n",
    "    sudo apt autoclean\n",
    "    sudo apt autoremove -y\n",
    "    sudo apt update\n",
    "    sudo apt --fix-broken install\n",
    "    sudo apt clean\n",
    "    sudo apt list --upgradable\n",
    "    sudo apt full-upgrade -y\n",
    "    sudo apt-get install poppler-utils\n",
    "    ```\n"
   ]
  },
  {
   "cell_type": "markdown",
   "metadata": {
    "vscode": {
     "languageId": "plaintext"
    }
   },
   "source": [
    "## Referências\n",
    "\n",
    "[3] OPENAI. ***Unir arquivos PDF: pdftk vs. pdfunite:***. Disponível em: <https://chat.openai.com/c/592706f3-7b05-4cff-859e-c5b1727e4735> (texto adaptado). Acessado em: 19/02/2024 13:47.\n",
    "\n",
    "[2] OPENAI. ***Vs code: editor popular***. Disponível em: <https://chat.openai.com/c/b640a25d-f8e3-4922-8a3b-ed74a2657e42> (texto adaptado). Acessado em: 19/02/2024 13:48.\n",
    "\n"
   ]
  }
 ],
 "metadata": {
  "kernelspec": {
   "display_name": "Python 3",
   "language": "python",
   "name": "python3"
  },
  "language_info": {
   "codemirror_mode": {
    "name": "ipython",
    "version": 3
   },
   "file_extension": ".py",
   "mimetype": "text/x-python",
   "name": "python",
   "nbconvert_exporter": "python",
   "pygments_lexer": "ipython3",
   "version": "3.11.5"
  },
  "orig_nbformat": 4
 },
 "nbformat": 4,
 "nbformat_minor": 2
}
